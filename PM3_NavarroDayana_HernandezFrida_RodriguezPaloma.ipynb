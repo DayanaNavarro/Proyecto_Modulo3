{
 "cells": [
  {
   "cell_type": "markdown",
   "metadata": {},
   "source": [
    "# Proyecto de capitalización por interes compuesto \n",
    "\n",
    "## OBJETIVOS \n",
    "\n",
    "> ### GENERAL\n",
    "\n",
    "+ Realizar el analisis de cuatro bancos para elegir en cual conviene más realizar la inversión.\n",
    "\n",
    "> ### ESPECIFICOS\n",
    "\n",
    "+ Conocer que tasa paga cada banco \n",
    "\n",
    "+ Definir una meta de ahorro\n",
    "\n",
    "+ Conocer nuestro capital disponible \n",
    "\n",
    "+ Conocer cuanto será el periodo en cada banco y ver en cual es menor.\n",
    "\n"
   ]
  },
  {
   "cell_type": "markdown",
   "metadata": {},
   "source": [
    "# Modelo que representa el problema \n",
    "\n",
    "### Ecuaciones que representan el problema \n",
    "\n",
    "#### Periodos\n",
    "\n",
    "k=np.ceil(np.log(Cf/C0)/np.log(1+i))\n",
    "\n",
    "k=k.astype(int)\n",
    "\n",
    "#### Capital\n",
    "\n",
    "Ck=C0*(1+i)**k\n",
    "\n",
    "Ck=round(Ck,2)\n",
    "\n",
    "### Deducción del Modelo\n",
    "\n",
    "El capital que genera el interés simple permanece constante todo el tiempo de duración de la inversión. En cambio, el que produce el interés compuesto en un periodo se convierte en capital en el siguiente periodo. Esto es, el interés generado al final de un periodo se reinvierte para el siguiente periodo para también producir interés.\n",
    "\n",
    "Suponga que se tiene un capital inicial $C_0$, y se va a ceder el uso de este capital por un periodo de tiempo determinado a una tasa de interés $i$. El capital que se obtiene al final del primer periodo $C_1$ se puede calcular por\n",
    "\n",
    "$$C_1=C_0(1+i).$$ \n",
    "\n",
    "Si la anterior suma se vuelve a ceder a la misma tasa de interés, al final del periodo dos el capital $C_2$ es \n",
    "\n",
    "$$C_2=C_1(1+i)=C_0(1+i)^2.$$\n",
    "\n",
    "Si se repite el anterior proceso $k$ veces, el capital al final del $k-$ésimo periodo $C_k$ es \n",
    "\n",
    "$$C_k=C_{k-1}(1+i)=C_0(1+i)^k.$$"
   ]
  },
  {
   "cell_type": "markdown",
   "metadata": {},
   "source": [
    "### Situación que representa el problema\n",
    "\n",
    "Tenemos 5 bancos, Santander, Bancomer, Banamex, HSBC y BanRegio, vamos a comprarar las tasas que pagan cada banco para ver en cual conviene más realizar nuestra inversión así como el periodo que será en cada uno.\n",
    "\n",
    "Contamos con un capital de 1000000 y se tiene como meta 1500000 sin inversiones adicionales.\n",
    "\n",
    "\n",
    "### Limitaciones\n",
    "\n",
    "+ Son diferentes en su logistica \n",
    "+ Pagan diferentes tasas \n",
    "+ Tienen diferentes requerimientos \n",
    "+ Ofrecen distintas cosas \n",
    "\n",
    "### Parametros ( constantes que aparecen en el problema)\n",
    "\n",
    "Tenemos como parametros constantes el valor inicial y el valor final.\n",
    "\n",
    "C0 y Cf\n",
    "\n"
   ]
  },
  {
   "cell_type": "markdown",
   "metadata": {},
   "source": [
    "## SOLUCIÓN DEL PROBLEMA \n"
   ]
  },
  {
   "cell_type": "code",
   "execution_count": null,
   "metadata": {},
   "outputs": [],
   "source": []
  }
 ],
 "metadata": {
  "kernelspec": {
   "display_name": "Python 3",
   "language": "python",
   "name": "python3"
  },
  "language_info": {
   "codemirror_mode": {
    "name": "ipython",
    "version": 3
   },
   "file_extension": ".py",
   "mimetype": "text/x-python",
   "name": "python",
   "nbconvert_exporter": "python",
   "pygments_lexer": "ipython3",
   "version": "3.7.3"
  }
 },
 "nbformat": 4,
 "nbformat_minor": 2
}
