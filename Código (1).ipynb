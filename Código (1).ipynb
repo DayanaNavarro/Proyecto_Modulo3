{
 "cells": [
  {
   "cell_type": "markdown",
   "metadata": {},
   "source": [
    "# Santander "
   ]
  },
  {
   "cell_type": "code",
   "execution_count": 2,
   "metadata": {},
   "outputs": [
    {
     "name": "stdout",
     "output_type": "stream",
     "text": [
      "El número de periodos que se debe de dejar invertido el dinero es  16 peridodos. Al final de periodo k el capital es de 1526400.0\n"
     ]
    }
   ],
   "source": [
    "# Importar librería numpy\n",
    "\n",
    "import numpy as np\n",
    "\n",
    "# Datos del problema\n",
    "C0=1000000\n",
    "i= 0.0329\n",
    "Cf= 1500000\n",
    "\n",
    "# Despejar k tal que C_k=meta\n",
    "\n",
    "k= np.ceil(((Cf/C0)-1)/i)\n",
    "k=k.astype(int)\n",
    "\n",
    "Ck=C0*(1+k*i)\n",
    "\n",
    "# Imprimimos respuesta en pantalla\n",
    "\n",
    "print(\"El número de periodos que se debe de dejar invertido el dinero es \",k,\"peridodos. Al final de periodo k el capital es de\", Ck)\n"
   ]
  },
  {
   "cell_type": "code",
   "execution_count": 3,
   "metadata": {},
   "outputs": [
    {
     "data": {
      "application/vnd.jupyter.widget-view+json": {
       "model_id": "9edd2f725d514a26b8d2a7d7a11dbae2",
       "version_major": 2,
       "version_minor": 0
      },
      "text/plain": [
       "interactive(children=(IntSlider(value=1250000, description='meta', max=1500000, min=1000000, step=100), Button…"
      ]
     },
     "metadata": {},
     "output_type": "display_data"
    }
   ],
   "source": [
    "# Librerías para gráficos\n",
    "import matplotlib.pyplot as plt\n",
    "# Para que se muestren las gráficas en la misma ventana\n",
    "%matplotlib inline\n",
    "# Librería para widgets de jupyter\n",
    "from ipywidgets import *\n",
    "\n",
    "def interes_simple(C_0, meta, i):\n",
    "    # Despejamos k\n",
    "    k = np.ceil((meta/C_0 - 1)/i)           # Notar el uso de la función ceil\n",
    "    k = k.astype(int)                       # Conversión a entero\n",
    "    C_k = C_0*(1+k*i)                       # Cálculo del capital al final del periodo k\n",
    "    C_k = round(C_k, 2)                     # Redondeo con dos cifras decimales\n",
    "    # Vector de periodos\n",
    "    kk = np.linspace(0,k,k+1)               \n",
    "    # Vector de capitales por periodo\n",
    "    CC = C_0*(1+kk*i)\n",
    "    # Gráfico\n",
    "    plt.figure(num=1); plt.clf()            # Figura 1, borrar lo que contenga\n",
    "    plt.plot(kk, CC,'*',ms=10)              # Se grafica la evolución de los capitales\n",
    "    plt.plot(kk,meta*np.ones(k+1),'--k')    # Se grafica la meta\n",
    "    plt.xlabel('$k$',fontsize=18)                         # Etiqueta eje x\n",
    "    plt.ylabel('$C_k$',fontsize=18)                       # Etiqueta eje y\n",
    "    plt.grid(True)                          # Malla en la gráfica\n",
    "    plt.show()                              # Mostrar la figura\n",
    "    print(\"El número de periodos que se debe dejar invertido el dinero para llegar a la meta de \", meta,\" es \", k,\n",
    "          \". Al final del periodo \", k,\", el capital es \", C_k, \".\", sep=\"\")\n",
    "    \n",
    "interact_manual(interes_simple, C_0=fixed(1000000), meta=(1000000,1500000,100), i=fixed(0.0329));"
   ]
  },
  {
   "cell_type": "markdown",
   "metadata": {},
   "source": [
    "# Bancomer"
   ]
  },
  {
   "cell_type": "code",
   "execution_count": 4,
   "metadata": {},
   "outputs": [
    {
     "name": "stdout",
     "output_type": "stream",
     "text": [
      "El número de periodos que se debe de dejar invertido el dinero es  10 peridodos. Al final de periodo k el capital es de 1500000.0\n"
     ]
    }
   ],
   "source": [
    "# Datos del problema\n",
    "C0=1000000\n",
    "i= 0.05\n",
    "Cf= 1500000\n",
    "\n",
    "# Despejar k tal que C_k=meta\n",
    "\n",
    "k= np.ceil(((Cf/C0)-1)/i)\n",
    "k=k.astype(int)\n",
    "\n",
    "Ck=C0*(1+k*i)\n",
    "\n",
    "# Imprimimos respuesta en pantalla\n",
    "\n",
    "print(\"El número de periodos que se debe de dejar invertido el dinero es \",k,\"peridodos. Al final de periodo k el capital es de\", Ck)\n"
   ]
  },
  {
   "cell_type": "code",
   "execution_count": 5,
   "metadata": {},
   "outputs": [
    {
     "data": {
      "application/vnd.jupyter.widget-view+json": {
       "model_id": "a8f3dca4592143f4a4a9bdb4b7c5da13",
       "version_major": 2,
       "version_minor": 0
      },
      "text/plain": [
       "interactive(children=(IntSlider(value=1250000, description='meta', max=1500000, min=1000000, step=100), Button…"
      ]
     },
     "metadata": {},
     "output_type": "display_data"
    }
   ],
   "source": [
    "def interes_simple(C_0, meta, i):\n",
    "    # Despejamos k\n",
    "    k = np.ceil((meta/C_0 - 1)/i)           # Notar el uso de la función ceil\n",
    "    k = k.astype(int)                       # Conversión a entero\n",
    "    C_k = C_0*(1+k*i)                       # Cálculo del capital al final del periodo k\n",
    "    C_k = round(C_k, 2)                     # Redondeo con dos cifras decimales\n",
    "    # Vector de periodos\n",
    "    kk = np.linspace(0,k,k+1)               \n",
    "    # Vector de capitales por periodo\n",
    "    CC = C_0*(1+kk*i)\n",
    "    # Gráfico\n",
    "    plt.figure(num=1); plt.clf()            # Figura 1, borrar lo que contenga\n",
    "    plt.plot(kk, CC,'*',ms=10)              # Se grafica la evolución de los capitales\n",
    "    plt.plot(kk,meta*np.ones(k+1),'--k')    # Se grafica la meta\n",
    "    plt.xlabel('$k$',fontsize=18)                         # Etiqueta eje x\n",
    "    plt.ylabel('$C_k$',fontsize=18)                       # Etiqueta eje y\n",
    "    plt.grid(True)                          # Malla en la gráfica\n",
    "    plt.show()                              # Mostrar la figura\n",
    "    print(\"El número de periodos que se debe dejar invertido el dinero para llegar a la meta de \", meta,\" es \", k,\n",
    "          \". Al final del periodo \", k,\", el capital es \", C_k, \".\", sep=\"\")\n",
    "    \n",
    "interact_manual(interes_simple, C_0=fixed(1000000), meta=(1000000,1500000,100), i=fixed(0.05));"
   ]
  },
  {
   "cell_type": "markdown",
   "metadata": {},
   "source": [
    "# HSBC"
   ]
  },
  {
   "cell_type": "code",
   "execution_count": 6,
   "metadata": {},
   "outputs": [
    {
     "name": "stdout",
     "output_type": "stream",
     "text": [
      "El número de periodos que se debe de dejar invertido el dinero es  23 peridodos. Al final de periodo k el capital es de 1519800.0\n"
     ]
    }
   ],
   "source": [
    "# Datos del problema\n",
    "C0=1000000\n",
    "i= 0.0226\n",
    "Cf= 1500000\n",
    "\n",
    "# Despejar k tal que C_k=meta\n",
    "\n",
    "k= np.ceil(((Cf/C0)-1)/i)\n",
    "k=k.astype(int)\n",
    "\n",
    "Ck=C0*(1+k*i)\n",
    "\n",
    "# Imprimimos respuesta en pantalla\n",
    "\n",
    "print(\"El número de periodos que se debe de dejar invertido el dinero es \",k,\"peridodos. Al final de periodo k el capital es de\", Ck)\n"
   ]
  },
  {
   "cell_type": "code",
   "execution_count": 7,
   "metadata": {},
   "outputs": [
    {
     "data": {
      "application/vnd.jupyter.widget-view+json": {
       "model_id": "678e0669ab8140eaa7e935ef81ddd31a",
       "version_major": 2,
       "version_minor": 0
      },
      "text/plain": [
       "interactive(children=(IntSlider(value=1250000, description='meta', max=1500000, min=1000000, step=100), Button…"
      ]
     },
     "metadata": {},
     "output_type": "display_data"
    }
   ],
   "source": [
    "def interes_simple(C_0, meta, i):\n",
    "    # Despejamos k\n",
    "    k = np.ceil((meta/C_0 - 1)/i)           # Notar el uso de la función ceil\n",
    "    k = k.astype(int)                       # Conversión a entero\n",
    "    C_k = C_0*(1+k*i)                       # Cálculo del capital al final del periodo k\n",
    "    C_k = round(C_k, 2)                     # Redondeo con dos cifras decimales\n",
    "    # Vector de periodos\n",
    "    kk = np.linspace(0,k,k+1)               \n",
    "    # Vector de capitales por periodo\n",
    "    CC = C_0*(1+kk*i)\n",
    "    # Gráfico\n",
    "    plt.figure(num=1); plt.clf()            # Figura 1, borrar lo que contenga\n",
    "    plt.plot(kk, CC,'*',ms=10)              # Se grafica la evolución de los capitales\n",
    "    plt.plot(kk,meta*np.ones(k+1),'--k')    # Se grafica la meta\n",
    "    plt.xlabel('$k$',fontsize=18)                         # Etiqueta eje x\n",
    "    plt.ylabel('$C_k$',fontsize=18)                       # Etiqueta eje y\n",
    "    plt.grid(True)                          # Malla en la gráfica\n",
    "    plt.show()                              # Mostrar la figura\n",
    "    print(\"El número de periodos que se debe dejar invertido el dinero para llegar a la meta de \", meta,\" es \", k,\n",
    "          \". Al final del periodo \", k,\", el capital es \", C_k, \".\", sep=\"\")\n",
    "    \n",
    "interact_manual(interes_simple, C_0=fixed(1000000), meta=(1000000,1500000,100), i=fixed(0.0226));"
   ]
  },
  {
   "cell_type": "markdown",
   "metadata": {},
   "source": [
    "# BanRegio"
   ]
  },
  {
   "cell_type": "code",
   "execution_count": 8,
   "metadata": {},
   "outputs": [
    {
     "name": "stdout",
     "output_type": "stream",
     "text": [
      "El número de periodos que se debe de dejar invertido el dinero es  22 peridodos. Al final de periodo k el capitla es de 1510400.0\n"
     ]
    }
   ],
   "source": [
    "# Datos del problema\n",
    "C0=1000000\n",
    "i= 0.0232\n",
    "Cf= 1500000\n",
    "\n",
    "# Despejar k tal que C_k=meta\n",
    "\n",
    "k= np.ceil(((Cf/C0)-1)/i)\n",
    "k=k.astype(int)\n",
    "\n",
    "Ck=C0*(1+k*i)\n",
    "\n",
    "# Imprimimos respuesta en pantalla\n",
    "\n",
    "print(\"El número de periodos que se debe de dejar invertido el dinero es \",k,\"peridodos. Al final de periodo k el capitla es de\", Ck)\n"
   ]
  },
  {
   "cell_type": "code",
   "execution_count": 9,
   "metadata": {},
   "outputs": [
    {
     "data": {
      "application/vnd.jupyter.widget-view+json": {
       "model_id": "cb45d6db9c0e4408a2da3435f6c4fafa",
       "version_major": 2,
       "version_minor": 0
      },
      "text/plain": [
       "interactive(children=(IntSlider(value=1250000, description='meta', max=1500000, min=1000000, step=100), Button…"
      ]
     },
     "metadata": {},
     "output_type": "display_data"
    }
   ],
   "source": [
    "def interes_simple(C_0, meta, i):\n",
    "    # Despejamos k\n",
    "    k = np.ceil((meta/C_0 - 1)/i)           # Notar el uso de la función ceil\n",
    "    k = k.astype(int)                       # Conversión a entero\n",
    "    C_k = C_0*(1+k*i)                       # Cálculo del capital al final del periodo k\n",
    "    C_k = round(C_k, 2)                     # Redondeo con dos cifras decimales\n",
    "    # Vector de periodos\n",
    "    kk = np.linspace(0,k,k+1)               \n",
    "    # Vector de capitales por periodo\n",
    "    CC = C_0*(1+kk*i)\n",
    "    # Gráfico\n",
    "    plt.figure(num=1); plt.clf()            # Figura 1, borrar lo que contenga\n",
    "    plt.plot(kk, CC,'*',ms=10)              # Se grafica la evolución de los capitales\n",
    "    plt.plot(kk,meta*np.ones(k+1),'--k')    # Se grafica la meta\n",
    "    plt.xlabel('$k$',fontsize=18)                         # Etiqueta eje x\n",
    "    plt.ylabel('$C_k$',fontsize=18)                       # Etiqueta eje y\n",
    "    plt.grid(True)                          # Malla en la gráfica\n",
    "    plt.show()                              # Mostrar la figura\n",
    "    print(\"El número de periodos que se debe dejar invertido el dinero para llegar a la meta de \", meta,\" es \", k,\n",
    "          \". Al final del periodo \", k,\", el capital es \", C_k, \".\", sep=\"\")\n",
    "    \n",
    "interact_manual(interes_simple, C_0=fixed(1000000), meta=(1000000,1500000,100), i=fixed(0.0232));"
   ]
  },
  {
   "cell_type": "markdown",
   "metadata": {},
   "source": [
    "# Banamex"
   ]
  },
  {
   "cell_type": "code",
   "execution_count": 10,
   "metadata": {},
   "outputs": [
    {
     "name": "stdout",
     "output_type": "stream",
     "text": [
      "El número de periodos que se debe de dejar invertido el dinero es  13 peridodos. Al final de periodo k el capitla es de 1522600.0\n"
     ]
    }
   ],
   "source": [
    "# Datos del problema\n",
    "C0=1000000\n",
    "i= 0.0402\n",
    "Cf= 1500000\n",
    "\n",
    "# Despejar k tal que C_k=meta\n",
    "\n",
    "k= np.ceil(((Cf/C0)-1)/i)\n",
    "k=k.astype(int)\n",
    "\n",
    "Ck=C0*(1+k*i)\n",
    "\n",
    "# Imprimimos respuesta en pantalla\n",
    "\n",
    "print(\"El número de periodos que se debe de dejar invertido el dinero es \",k,\"peridodos. Al final de periodo k el capitla es de\", Ck)\n"
   ]
  },
  {
   "cell_type": "code",
   "execution_count": 11,
   "metadata": {},
   "outputs": [
    {
     "data": {
      "application/vnd.jupyter.widget-view+json": {
       "model_id": "e2638cb75b2f41838c3a74eaed7af9bb",
       "version_major": 2,
       "version_minor": 0
      },
      "text/plain": [
       "interactive(children=(IntSlider(value=1250000, description='meta', max=1500000, min=1000000, step=100), Button…"
      ]
     },
     "metadata": {},
     "output_type": "display_data"
    }
   ],
   "source": [
    "def interes_simple(C_0, meta, i):\n",
    "    # Despejamos k\n",
    "    k = np.ceil((meta/C_0 - 1)/i)           # Notar el uso de la función ceil\n",
    "    k = k.astype(int)                       # Conversión a entero\n",
    "    C_k = C_0*(1+k*i)                       # Cálculo del capital al final del periodo k\n",
    "    C_k = round(C_k, 2)                     # Redondeo con dos cifras decimales\n",
    "    # Vector de periodos\n",
    "    kk = np.linspace(0,k,k+1)               \n",
    "    # Vector de capitales por periodo\n",
    "    CC = C_0*(1+kk*i)\n",
    "    # Gráfico\n",
    "    plt.figure(num=1); plt.clf()            # Figura 1, borrar lo que contenga\n",
    "    plt.plot(kk, CC,'*',ms=10)              # Se grafica la evolución de los capitales\n",
    "    plt.plot(kk,meta*np.ones(k+1),'--k')    # Se grafica la meta\n",
    "    plt.xlabel('$k$',fontsize=18)                         # Etiqueta eje x\n",
    "    plt.ylabel('$C_k$',fontsize=18)                       # Etiqueta eje y\n",
    "    plt.grid(True)                          # Malla en la gráfica\n",
    "    plt.show()                              # Mostrar la figura\n",
    "    print(\"El número de periodos que se debe dejar invertido el dinero para llegar a la meta de \", meta,\" es \", k,\n",
    "          \". Al final del periodo \", k,\", el capital es \", C_k, \".\", sep=\"\")\n",
    "    \n",
    "interact_manual(interes_simple, C_0=fixed(1000000), meta=(1000000,1500000,100), i=fixed(0.0402));"
   ]
  },
  {
   "cell_type": "markdown",
   "metadata": {},
   "source": [
    "## Resultados"
   ]
  },
  {
   "cell_type": "markdown",
   "metadata": {},
   "source": [
    "**Santander**:    16 periodos con un capital de 1´526,400\n",
    "\n",
    "**Bancomer**:     10 periodos con un capital de 1´500,000\n",
    "\n",
    "**HSBC**:         23 periodos con un captal de 1´519,800\n",
    "\n",
    "**Banregio**:     22 periodos con un capital de 1´510,400\n",
    "\n",
    "**Banamex**:      13 periodos con un capital de 1´522,600"
   ]
  },
  {
   "cell_type": "markdown",
   "metadata": {},
   "source": [
    "## Conclusiones"
   ]
  },
  {
   "cell_type": "markdown",
   "metadata": {},
   "source": [
    "Obtuvimos que Bancomer es con el que más rapido se llega a la meta que nos pusimos de un rendimiento final de $1´500,000 MX ya que se llega en solo 10 periodos; sin embargo con Santander se obtiene el mayor rendimiento que es de 1´526,400 pesos en una cantidad de periodos no tan grande, de 16. \n",
    "\n",
    "Los bancos que a nuestro parecer definitivamente no son viables son HSBC y BanRegio ya que tienen la mayor cantidad de periodos y nisiquiera es un rendimiento tan grande el que nos brinda.\n",
    "\n",
    "En cuestion de Banamex es un punto neutro ya que son pocos periodos y un rendimiento razonable.\n",
    "\n",
    "Sería cuestión de preferencias entre un plazo más largo pero con mayor rendimiento o poco rendimiento con la mete ya establecida.\n",
    "\n",
    "En lo personal nosotras elegiríamos Banamex ya que segun nuestro criterio es el punto medio donde se obtiene buen rendimiento a un plazo corto."
   ]
  }
 ],
 "metadata": {
  "kernelspec": {
   "display_name": "Python 3",
   "language": "python",
   "name": "python3"
  },
  "language_info": {
   "codemirror_mode": {
    "name": "ipython",
    "version": 3
   },
   "file_extension": ".py",
   "mimetype": "text/x-python",
   "name": "python",
   "nbconvert_exporter": "python",
   "pygments_lexer": "ipython3",
   "version": "3.7.3"
  }
 },
 "nbformat": 4,
 "nbformat_minor": 2
}
